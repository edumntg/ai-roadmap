{
 "cells": [
  {
   "cell_type": "code",
   "execution_count": 1,
   "metadata": {},
   "outputs": [],
   "source": [
    "import numpy as np\n",
    "import gymnasium as gym\n",
    "import time\n",
    "from gymnasium.spaces import Box, Discrete, MultiDiscrete, MultiBinary, Dict, Sequence\n",
    "import matplotlib.pyplot as plt\n",
    "from stable_baselines3 import DQN, PPO\n",
    "from stable_baselines3.common.evaluation import evaluate_policy\n",
    "from stable_baselines3.common.env_util import make_vec_env\n",
    "from stable_baselines3 import TD3\n",
    "from stable_baselines3.common.monitor import Monitor\n",
    "from stable_baselines3.common.results_plotter import load_results, ts2xy\n",
    "from stable_baselines3.common.noise import NormalActionNoise\n",
    "from stable_baselines3.common.callbacks import BaseCallback\n",
    "from stable_baselines3.common.env_checker import check_env\n",
    "import os\n",
    "import copy\n",
    "\n",
    "#CWD = os.path.dirname(os.path.abspath(__file__))"
   ]
  },
  {
   "cell_type": "code",
   "execution_count": 9,
   "metadata": {},
   "outputs": [],
   "source": [
    "class UnitCommitmentEnv(gym.Env):\n",
    "    def __init__(self, num_units, unit_characteristics):\n",
    "        super(UnitCommitmentEnv, self).__init__()\n",
    "\n",
    "        self.num_units = num_units\n",
    "        self.load_forecast = np.random.rand(np.random.randint(12, 96))*3.5 + 0.1\n",
    "        self.unit_characteristics = unit_characteristics\n",
    "        self.current_time = 0\n",
    "        self.total_cost = 0\n",
    "\n",
    "        #self.action_space = Discrete(3 * num_units)\n",
    "\n",
    "        #self.action_space = MultiDiscrete(np.ones((2**self.num_units-1,), dtype=int)*2)\n",
    "        #self.action_space = MultiDiscrete(np.ones((self.num_units,), dtype=int)*2)\n",
    "        self.action_space = MultiBinary(self.num_units)\n",
    "\n",
    "        #self.observation_space = Box(low=0, high=1, shape=(num_units,), dtype = int)\n",
    "        self.observation_space = Dict({\n",
    "            \"unit_status\": MultiBinary(self.num_units),\n",
    "            \"unit_startup_time\": Box(low=-999, high = len(self.load_forecast), shape=(self.num_units,), dtype=np.float32),\n",
    "            \"unit_shutdown_time\": Box(low=-999, high = len(self.load_forecast), shape=(self.num_units,), dtype=np.float32),\n",
    "            \"next_step_load\": Box(low= 0.0, high =10.0, dtype = np.float32)\n",
    "        })\n",
    "\n",
    "        self.P = 0.0\n",
    "\n",
    "        self.reset()\n",
    "\n",
    "    def reset(self, seed = None, options = None):\n",
    "        self.load_forecast = np.random.rand(np.random.randint(12, 96))*3.5 + 0.1\n",
    "        self.current_time = 0\n",
    "        self.total_cost = 0\n",
    "        \n",
    "        self.current_obs = self.observation_space.sample()\n",
    "\n",
    "        self.current_obs[\"unit_status\"] = np.ones((self.num_units,), dtype=np.int8) # all units online\n",
    "        self.current_obs[\"unit_shutdown_time\"] = np.copy(self.observation_space[\"unit_shutdown_time\"].low)\n",
    "        self.current_obs[\"unit_startup_time\"] = np.copy(self.observation_space[\"unit_startup_time\"].low)\n",
    "        self.current_obs[\"next_step_load\"] = Box(low= self.load_forecast[0], high = self.load_forecast[0], dtype = np.float32).sample()\n",
    "\n",
    "        self.P = sum([self.unit_characteristics[id]['Pmax'] for id in range(self.num_units)])\n",
    "\n",
    "        return self.current_obs, {}\n",
    "    \n",
    "    def step(self, action):\n",
    "        # NOTE: Action is an array\n",
    "\n",
    "        reward = 0.0\n",
    "        for unit_id, action_type in enumerate(action):\n",
    "            # Update unit status\n",
    "            if action_type == 0:  # Turn off\n",
    "                if self.current_obs['unit_status'][unit_id] == 1:\n",
    "                    self.current_obs['unit_status'][unit_id] = 0\n",
    "                    self.current_obs['unit_shutdown_time'][unit_id] = self.current_time\n",
    "\n",
    "                    time_on = self.current_time - self.current_obs['unit_startup_time'][unit_id]\n",
    "                    if time_on < self.unit_characteristics[unit_id]['min_t_up']: # Unit has been on for a time less than required. Unit can be damaged\n",
    "                        reward -= 100\n",
    "            elif action_type == 1:  # Turn on\n",
    "                if self.current_obs['unit_status'][unit_id] == 0:\n",
    "                    self.current_obs['unit_status'][unit_id] = 1\n",
    "                    self.current_obs['unit_startup_time'][unit_id] = self.current_time\n",
    "\n",
    "                    time_off = self.current_time - self.current_obs['unit_shutdown_time'][unit_id]\n",
    "                    if time_off < self.unit_characteristics[unit_id]['cold_start_time']:\n",
    "                        # Cost is hot start cost (unit is still hot)\n",
    "                        reward -= self.unit_characteristics[unit_id]['HSC']\n",
    "                        if time_off < self.unit_characteristics[unit_id]['min_t_down']:\n",
    "                            # Unit has not been off for minimum time so unit could be damaged\n",
    "                            reward -= 100\n",
    "                    else:\n",
    "                        # Unit is already cool down\n",
    "                        reward -= self.unit_characteristics[unit_id]['CSC']\n",
    "\n",
    "        # Now add the cost of all remaining units\n",
    "        # for i in range(self.num_units):\n",
    "        #     reward -= self.current_obs['unit_status'][i] * self.unit_characteristics[i]['fuel_cost']\n",
    "\n",
    "        # Finally if the combinations of units cannot supply the demand, penalize\n",
    "        total_supplied = 0.0\n",
    "        for i in range(self.num_units):\n",
    "            total_supplied += self.current_obs['unit_status'][i] * self.unit_characteristics[i]['Pmax']\n",
    "\n",
    "        if total_supplied < self.load_forecast[self.current_time]:\n",
    "            reward -= 1000\n",
    "        else:\n",
    "            reward += 5000\n",
    "\n",
    "        self.P = total_supplied\n",
    "\n",
    "        # Update time\n",
    "        self.current_time += 1\n",
    "\n",
    "        # Check if episode is done\n",
    "        done = self.current_time >= len(self.load_forecast)\n",
    "\n",
    "        if not done:\n",
    "            self.current_obs[\"next_step_load\"] = Box(low= self.load_forecast[self.current_time], high = self.load_forecast[self.current_time], dtype = np.float32).sample()\n",
    "\n",
    "        # Get reward\n",
    "        #reward = -self.total_cost\n",
    "\n",
    "        return self.current_obs, reward, done, False, {}"
   ]
  },
  {
   "cell_type": "code",
   "execution_count": 10,
   "metadata": {},
   "outputs": [
    {
     "name": "stdout",
     "output_type": "stream",
     "text": [
      "OrderedDict([('next_step_load', array([0.7343011], dtype=float32)), ('unit_shutdown_time', array([-999., -999., -999.], dtype=float32)), ('unit_startup_time', array([-999., -999., -999.], dtype=float32)), ('unit_status', array([1, 1, 1], dtype=int8))])\n",
      "Current obs: OrderedDict([('next_step_load', array([0.7343011], dtype=float32)), ('unit_shutdown_time', array([-999., -999., -999.], dtype=float32)), ('unit_startup_time', array([-999., -999., -999.], dtype=float32)), ('unit_status', array([1, 1, 1], dtype=int8))])\n",
      "Action: [0 1 1]\n",
      "Observation: OrderedDict([('next_step_load', array([2.9394321], dtype=float32)), ('unit_shutdown_time', array([   0., -999., -999.], dtype=float32)), ('unit_startup_time', array([-999., -999., -999.], dtype=float32)), ('unit_status', array([0, 1, 1], dtype=int8))])\n",
      "Reward: 5000.0\n",
      "Done: False\n"
     ]
    },
    {
     "data": {
      "text/plain": [
       "(OrderedDict([('next_step_load', array([1.0422502], dtype=float32)),\n",
       "              ('unit_shutdown_time',\n",
       "               array([-999., -999., -999.], dtype=float32)),\n",
       "              ('unit_startup_time',\n",
       "               array([-999., -999., -999.], dtype=float32)),\n",
       "              ('unit_status', array([1, 1, 1], dtype=int8))]),\n",
       " {})"
      ]
     },
     "execution_count": 10,
     "metadata": {},
     "output_type": "execute_result"
    }
   ],
   "source": [
    "# Example usage\n",
    "num_units = 3\n",
    "unit_characteristics = [\n",
    "    {'Pmax': 1.0, 'Pmin': 0.10, 'Qmax': 10, 'Qmin': -10, 'a': 200, 'b': 30, 'c': 0.1, 'IHR': 10000, 'fuel_cost': 23.54, 'min_t_up': 1, 'min_t_down': 1, 'HSC': 0, 'CSC': 0, 'cold_start_time': 4},\n",
    "    {'Pmax': 1.5, 'Pmin': 0.25, 'Qmax': 10, 'Qmin': -10, 'a': 800, 'b': 60, 'c': 0.7, 'IHR': 9000, 'fuel_cost': 20.34, 'min_t_up': 1, 'min_t_down': 1, 'HSC': 0, 'CSC': 0, 'cold_start_time': 5},\n",
    "    {'Pmax': 1.1, 'Pmin': 0.20, 'Qmax': 10, 'Qmin': -10, 'a': 400, 'b': 50, 'c': 0.55, 'IHR': 8000, 'fuel_cost': 20.00, 'min_t_up': 1, 'min_t_down': 1, 'HSC': 0, 'CSC': 0, 'cold_start_time': 4}\n",
    "\n",
    "]\n",
    "\n",
    "env = UnitCommitmentEnv(num_units, unit_characteristics)\n",
    "obs, _ = env.reset()\n",
    "print(obs)\n",
    "# Test step\n",
    "action = env.action_space.sample()\n",
    "current_obs = env.current_obs\n",
    "print(\"Current obs:\", current_obs)\n",
    "obs, reward, done, truncated, info = env.step(action)\n",
    "print(\"Action:\", action)\n",
    "print(\"Observation:\", obs)\n",
    "print(\"Reward:\", reward)\n",
    "print(\"Done:\", done)\n",
    "\n",
    "check_env(env)\n",
    "\n",
    "env.reset()"
   ]
  },
  {
   "cell_type": "code",
   "execution_count": 11,
   "metadata": {},
   "outputs": [],
   "source": [
    "class OnStepCallback(BaseCallback):\n",
    "    \"\"\"\n",
    "    Callback for saving a model (the check is done every ``check_freq`` steps)\n",
    "    based on the training reward (in practice, we recommend using ``EvalCallback``).\n",
    "\n",
    "    :param check_freq: (int)\n",
    "    :param log_dir: (str) Path to the folder where the model will be saved.\n",
    "      It must contains the file created by the ``Monitor`` wrapper.\n",
    "    :param verbose: (int)\n",
    "    \"\"\"\n",
    "\n",
    "    def __init__(self, check_freq: int, log_dir: str, verbose=1):\n",
    "        super().__init__(verbose)\n",
    "        self.check_freq = check_freq\n",
    "        self.log_dir = log_dir\n",
    "        self.save_path = os.path.join(log_dir, \"best_model\")\n",
    "        self.best_mean_reward = -np.inf\n",
    "\n",
    "    def _init_callback(self) -> None:\n",
    "        # Create folder if needed\n",
    "        if self.save_path is not None:\n",
    "            os.makedirs(self.save_path, exist_ok=True)\n",
    "\n",
    "    def _on_step(self) -> bool:\n",
    "        if self.n_calls % self.check_freq == 0:\n",
    "\n",
    "            # Retrieve training reward\n",
    "            x, y = ts2xy(load_results(self.log_dir), \"timesteps\")\n",
    "            if len(x) > 0:\n",
    "                # Mean training reward over the last 100 episodes\n",
    "                mean_reward = np.mean(y[-100:])\n",
    "                if self.verbose > 0:\n",
    "                    print(f\"Num timesteps: {self.num_timesteps}\")\n",
    "                    print(\n",
    "                        f\"Best mean reward: {self.best_mean_reward:.2f} - Last mean reward per episode: {mean_reward:.2f}\"\n",
    "                    )\n",
    "\n",
    "                # New best model, you could save the agent here\n",
    "                if mean_reward > self.best_mean_reward:\n",
    "                    self.best_mean_reward = mean_reward\n",
    "                    # Example for saving best model\n",
    "                    if self.verbose > 0:\n",
    "                        print(f\"Saving new best model to {self.save_path}.zip\")\n",
    "                    self.model.save(self.save_path)\n",
    "\n",
    "        return True"
   ]
  },
  {
   "cell_type": "code",
   "execution_count": 17,
   "metadata": {},
   "outputs": [
    {
     "data": {
      "application/vnd.jupyter.widget-view+json": {
       "model_id": "5049fa9fd9d44db3b7fe69f1e68175f3",
       "version_major": 2,
       "version_minor": 0
      },
      "text/plain": [
       "Output()"
      ]
     },
     "metadata": {},
     "output_type": "display_data"
    },
    {
     "data": {
      "text/html": [
       "<pre style=\"white-space:pre;overflow-x:auto;line-height:normal;font-family:Menlo,'DejaVu Sans Mono',consolas,'Courier New',monospace\">Num timesteps: 10000\n",
       "</pre>\n"
      ],
      "text/plain": [
       "Num timesteps: 10000\n"
      ]
     },
     "metadata": {},
     "output_type": "display_data"
    },
    {
     "data": {
      "text/html": [
       "<pre style=\"white-space:pre;overflow-x:auto;line-height:normal;font-family:Menlo,'DejaVu Sans Mono',consolas,'Courier New',monospace\">Best mean reward: -inf - Last mean reward per episode: 95640.00\n",
       "</pre>\n"
      ],
      "text/plain": [
       "Best mean reward: -inf - Last mean reward per episode: 95640.00\n"
      ]
     },
     "metadata": {},
     "output_type": "display_data"
    },
    {
     "data": {
      "text/html": [
       "<pre style=\"white-space:pre;overflow-x:auto;line-height:normal;font-family:Menlo,'DejaVu Sans Mono',consolas,'Courier New',monospace\">Saving new best model to /tmp/gym/best_model.zip\n",
       "</pre>\n"
      ],
      "text/plain": [
       "Saving new best model to /tmp/gym/best_model.zip\n"
      ]
     },
     "metadata": {},
     "output_type": "display_data"
    },
    {
     "data": {
      "text/html": [
       "<pre style=\"white-space:pre;overflow-x:auto;line-height:normal;font-family:Menlo,'DejaVu Sans Mono',consolas,'Courier New',monospace\">Num timesteps: 20000\n",
       "</pre>\n"
      ],
      "text/plain": [
       "Num timesteps: 20000\n"
      ]
     },
     "metadata": {},
     "output_type": "display_data"
    },
    {
     "data": {
      "text/html": [
       "<pre style=\"white-space:pre;overflow-x:auto;line-height:normal;font-family:Menlo,'DejaVu Sans Mono',consolas,'Courier New',monospace\">Best mean reward: 95640.00 - Last mean reward per episode: 109630.00\n",
       "</pre>\n"
      ],
      "text/plain": [
       "Best mean reward: 95640.00 - Last mean reward per episode: 109630.00\n"
      ]
     },
     "metadata": {},
     "output_type": "display_data"
    },
    {
     "data": {
      "text/html": [
       "<pre style=\"white-space:pre;overflow-x:auto;line-height:normal;font-family:Menlo,'DejaVu Sans Mono',consolas,'Courier New',monospace\">Saving new best model to /tmp/gym/best_model.zip\n",
       "</pre>\n"
      ],
      "text/plain": [
       "Saving new best model to /tmp/gym/best_model.zip\n"
      ]
     },
     "metadata": {},
     "output_type": "display_data"
    },
    {
     "data": {
      "text/html": [
       "<pre style=\"white-space:pre;overflow-x:auto;line-height:normal;font-family:Menlo,'DejaVu Sans Mono',consolas,'Courier New',monospace\">Num timesteps: 30000\n",
       "</pre>\n"
      ],
      "text/plain": [
       "Num timesteps: 30000\n"
      ]
     },
     "metadata": {},
     "output_type": "display_data"
    },
    {
     "data": {
      "text/html": [
       "<pre style=\"white-space:pre;overflow-x:auto;line-height:normal;font-family:Menlo,'DejaVu Sans Mono',consolas,'Courier New',monospace\">Best mean reward: 109630.00 - Last mean reward per episode: 106890.00\n",
       "</pre>\n"
      ],
      "text/plain": [
       "Best mean reward: 109630.00 - Last mean reward per episode: 106890.00\n"
      ]
     },
     "metadata": {},
     "output_type": "display_data"
    },
    {
     "data": {
      "text/html": [
       "<pre style=\"white-space:pre;overflow-x:auto;line-height:normal;font-family:Menlo,'DejaVu Sans Mono',consolas,'Courier New',monospace\">Num timesteps: 40000\n",
       "</pre>\n"
      ],
      "text/plain": [
       "Num timesteps: 40000\n"
      ]
     },
     "metadata": {},
     "output_type": "display_data"
    },
    {
     "data": {
      "text/html": [
       "<pre style=\"white-space:pre;overflow-x:auto;line-height:normal;font-family:Menlo,'DejaVu Sans Mono',consolas,'Courier New',monospace\">Best mean reward: 109630.00 - Last mean reward per episode: 105180.00\n",
       "</pre>\n"
      ],
      "text/plain": [
       "Best mean reward: 109630.00 - Last mean reward per episode: 105180.00\n"
      ]
     },
     "metadata": {},
     "output_type": "display_data"
    },
    {
     "data": {
      "text/html": [
       "<pre style=\"white-space:pre;overflow-x:auto;line-height:normal;font-family:Menlo,'DejaVu Sans Mono',consolas,'Courier New',monospace\">Num timesteps: 50000\n",
       "</pre>\n"
      ],
      "text/plain": [
       "Num timesteps: 50000\n"
      ]
     },
     "metadata": {},
     "output_type": "display_data"
    },
    {
     "data": {
      "text/html": [
       "<pre style=\"white-space:pre;overflow-x:auto;line-height:normal;font-family:Menlo,'DejaVu Sans Mono',consolas,'Courier New',monospace\">Best mean reward: 109630.00 - Last mean reward per episode: 118500.00\n",
       "</pre>\n"
      ],
      "text/plain": [
       "Best mean reward: 109630.00 - Last mean reward per episode: 118500.00\n"
      ]
     },
     "metadata": {},
     "output_type": "display_data"
    },
    {
     "data": {
      "text/html": [
       "<pre style=\"white-space:pre;overflow-x:auto;line-height:normal;font-family:Menlo,'DejaVu Sans Mono',consolas,'Courier New',monospace\">Saving new best model to /tmp/gym/best_model.zip\n",
       "</pre>\n"
      ],
      "text/plain": [
       "Saving new best model to /tmp/gym/best_model.zip\n"
      ]
     },
     "metadata": {},
     "output_type": "display_data"
    },
    {
     "data": {
      "text/html": [
       "<pre style=\"white-space:pre;overflow-x:auto;line-height:normal;font-family:Menlo,'DejaVu Sans Mono',consolas,'Courier New',monospace\">Num timesteps: 60000\n",
       "</pre>\n"
      ],
      "text/plain": [
       "Num timesteps: 60000\n"
      ]
     },
     "metadata": {},
     "output_type": "display_data"
    },
    {
     "data": {
      "text/html": [
       "<pre style=\"white-space:pre;overflow-x:auto;line-height:normal;font-family:Menlo,'DejaVu Sans Mono',consolas,'Courier New',monospace\">Best mean reward: 118500.00 - Last mean reward per episode: 102780.00\n",
       "</pre>\n"
      ],
      "text/plain": [
       "Best mean reward: 118500.00 - Last mean reward per episode: 102780.00\n"
      ]
     },
     "metadata": {},
     "output_type": "display_data"
    },
    {
     "data": {
      "text/html": [
       "<pre style=\"white-space:pre;overflow-x:auto;line-height:normal;font-family:Menlo,'DejaVu Sans Mono',consolas,'Courier New',monospace\">Num timesteps: 70000\n",
       "</pre>\n"
      ],
      "text/plain": [
       "Num timesteps: 70000\n"
      ]
     },
     "metadata": {},
     "output_type": "display_data"
    },
    {
     "data": {
      "text/html": [
       "<pre style=\"white-space:pre;overflow-x:auto;line-height:normal;font-family:Menlo,'DejaVu Sans Mono',consolas,'Courier New',monospace\">Best mean reward: 118500.00 - Last mean reward per episode: 98700.00\n",
       "</pre>\n"
      ],
      "text/plain": [
       "Best mean reward: 118500.00 - Last mean reward per episode: 98700.00\n"
      ]
     },
     "metadata": {},
     "output_type": "display_data"
    },
    {
     "data": {
      "text/html": [
       "<pre style=\"white-space:pre;overflow-x:auto;line-height:normal;font-family:Menlo,'DejaVu Sans Mono',consolas,'Courier New',monospace\">Num timesteps: 80000\n",
       "</pre>\n"
      ],
      "text/plain": [
       "Num timesteps: 80000\n"
      ]
     },
     "metadata": {},
     "output_type": "display_data"
    },
    {
     "data": {
      "text/html": [
       "<pre style=\"white-space:pre;overflow-x:auto;line-height:normal;font-family:Menlo,'DejaVu Sans Mono',consolas,'Courier New',monospace\">Best mean reward: 118500.00 - Last mean reward per episode: 122360.00\n",
       "</pre>\n"
      ],
      "text/plain": [
       "Best mean reward: 118500.00 - Last mean reward per episode: 122360.00\n"
      ]
     },
     "metadata": {},
     "output_type": "display_data"
    },
    {
     "data": {
      "text/html": [
       "<pre style=\"white-space:pre;overflow-x:auto;line-height:normal;font-family:Menlo,'DejaVu Sans Mono',consolas,'Courier New',monospace\">Saving new best model to /tmp/gym/best_model.zip\n",
       "</pre>\n"
      ],
      "text/plain": [
       "Saving new best model to /tmp/gym/best_model.zip\n"
      ]
     },
     "metadata": {},
     "output_type": "display_data"
    },
    {
     "data": {
      "text/html": [
       "<pre style=\"white-space:pre;overflow-x:auto;line-height:normal;font-family:Menlo,'DejaVu Sans Mono',consolas,'Courier New',monospace\">Num timesteps: 90000\n",
       "</pre>\n"
      ],
      "text/plain": [
       "Num timesteps: 90000\n"
      ]
     },
     "metadata": {},
     "output_type": "display_data"
    },
    {
     "data": {
      "text/html": [
       "<pre style=\"white-space:pre;overflow-x:auto;line-height:normal;font-family:Menlo,'DejaVu Sans Mono',consolas,'Courier New',monospace\">Best mean reward: 122360.00 - Last mean reward per episode: 111750.00\n",
       "</pre>\n"
      ],
      "text/plain": [
       "Best mean reward: 122360.00 - Last mean reward per episode: 111750.00\n"
      ]
     },
     "metadata": {},
     "output_type": "display_data"
    },
    {
     "data": {
      "text/html": [
       "<pre style=\"white-space:pre;overflow-x:auto;line-height:normal;font-family:Menlo,'DejaVu Sans Mono',consolas,'Courier New',monospace\">Num timesteps: 100000\n",
       "</pre>\n"
      ],
      "text/plain": [
       "Num timesteps: 100000\n"
      ]
     },
     "metadata": {},
     "output_type": "display_data"
    },
    {
     "data": {
      "text/html": [
       "<pre style=\"white-space:pre;overflow-x:auto;line-height:normal;font-family:Menlo,'DejaVu Sans Mono',consolas,'Courier New',monospace\">Best mean reward: 122360.00 - Last mean reward per episode: 104930.00\n",
       "</pre>\n"
      ],
      "text/plain": [
       "Best mean reward: 122360.00 - Last mean reward per episode: 104930.00\n"
      ]
     },
     "metadata": {},
     "output_type": "display_data"
    },
    {
     "data": {
      "text/html": [
       "<pre style=\"white-space:pre;overflow-x:auto;line-height:normal;font-family:Menlo,'DejaVu Sans Mono',consolas,'Courier New',monospace\">Num timesteps: 110000\n",
       "</pre>\n"
      ],
      "text/plain": [
       "Num timesteps: 110000\n"
      ]
     },
     "metadata": {},
     "output_type": "display_data"
    },
    {
     "data": {
      "text/html": [
       "<pre style=\"white-space:pre;overflow-x:auto;line-height:normal;font-family:Menlo,'DejaVu Sans Mono',consolas,'Courier New',monospace\">Best mean reward: 122360.00 - Last mean reward per episode: 118810.00\n",
       "</pre>\n"
      ],
      "text/plain": [
       "Best mean reward: 122360.00 - Last mean reward per episode: 118810.00\n"
      ]
     },
     "metadata": {},
     "output_type": "display_data"
    },
    {
     "data": {
      "text/html": [
       "<pre style=\"white-space:pre;overflow-x:auto;line-height:normal;font-family:Menlo,'DejaVu Sans Mono',consolas,'Courier New',monospace\">Num timesteps: 120000\n",
       "</pre>\n"
      ],
      "text/plain": [
       "Num timesteps: 120000\n"
      ]
     },
     "metadata": {},
     "output_type": "display_data"
    },
    {
     "data": {
      "text/html": [
       "<pre style=\"white-space:pre;overflow-x:auto;line-height:normal;font-family:Menlo,'DejaVu Sans Mono',consolas,'Courier New',monospace\">Best mean reward: 122360.00 - Last mean reward per episode: 123690.00\n",
       "</pre>\n"
      ],
      "text/plain": [
       "Best mean reward: 122360.00 - Last mean reward per episode: 123690.00\n"
      ]
     },
     "metadata": {},
     "output_type": "display_data"
    },
    {
     "data": {
      "text/html": [
       "<pre style=\"white-space:pre;overflow-x:auto;line-height:normal;font-family:Menlo,'DejaVu Sans Mono',consolas,'Courier New',monospace\">Saving new best model to /tmp/gym/best_model.zip\n",
       "</pre>\n"
      ],
      "text/plain": [
       "Saving new best model to /tmp/gym/best_model.zip\n"
      ]
     },
     "metadata": {},
     "output_type": "display_data"
    },
    {
     "data": {
      "text/html": [
       "<pre style=\"white-space:pre;overflow-x:auto;line-height:normal;font-family:Menlo,'DejaVu Sans Mono',consolas,'Courier New',monospace\">Num timesteps: 130000\n",
       "</pre>\n"
      ],
      "text/plain": [
       "Num timesteps: 130000\n"
      ]
     },
     "metadata": {},
     "output_type": "display_data"
    },
    {
     "data": {
      "text/html": [
       "<pre style=\"white-space:pre;overflow-x:auto;line-height:normal;font-family:Menlo,'DejaVu Sans Mono',consolas,'Courier New',monospace\">Best mean reward: 123690.00 - Last mean reward per episode: 118080.00\n",
       "</pre>\n"
      ],
      "text/plain": [
       "Best mean reward: 123690.00 - Last mean reward per episode: 118080.00\n"
      ]
     },
     "metadata": {},
     "output_type": "display_data"
    },
    {
     "data": {
      "text/html": [
       "<pre style=\"white-space:pre;overflow-x:auto;line-height:normal;font-family:Menlo,'DejaVu Sans Mono',consolas,'Courier New',monospace\">Num timesteps: 140000\n",
       "</pre>\n"
      ],
      "text/plain": [
       "Num timesteps: 140000\n"
      ]
     },
     "metadata": {},
     "output_type": "display_data"
    },
    {
     "data": {
      "text/html": [
       "<pre style=\"white-space:pre;overflow-x:auto;line-height:normal;font-family:Menlo,'DejaVu Sans Mono',consolas,'Courier New',monospace\">Best mean reward: 123690.00 - Last mean reward per episode: 121670.00\n",
       "</pre>\n"
      ],
      "text/plain": [
       "Best mean reward: 123690.00 - Last mean reward per episode: 121670.00\n"
      ]
     },
     "metadata": {},
     "output_type": "display_data"
    },
    {
     "data": {
      "text/html": [
       "<pre style=\"white-space:pre;overflow-x:auto;line-height:normal;font-family:Menlo,'DejaVu Sans Mono',consolas,'Courier New',monospace\">Num timesteps: 150000\n",
       "</pre>\n"
      ],
      "text/plain": [
       "Num timesteps: 150000\n"
      ]
     },
     "metadata": {},
     "output_type": "display_data"
    },
    {
     "data": {
      "text/html": [
       "<pre style=\"white-space:pre;overflow-x:auto;line-height:normal;font-family:Menlo,'DejaVu Sans Mono',consolas,'Courier New',monospace\">Best mean reward: 123690.00 - Last mean reward per episode: 120230.00\n",
       "</pre>\n"
      ],
      "text/plain": [
       "Best mean reward: 123690.00 - Last mean reward per episode: 120230.00\n"
      ]
     },
     "metadata": {},
     "output_type": "display_data"
    },
    {
     "data": {
      "text/html": [
       "<pre style=\"white-space:pre;overflow-x:auto;line-height:normal;font-family:Menlo,'DejaVu Sans Mono',consolas,'Courier New',monospace\">Num timesteps: 160000\n",
       "</pre>\n"
      ],
      "text/plain": [
       "Num timesteps: 160000\n"
      ]
     },
     "metadata": {},
     "output_type": "display_data"
    },
    {
     "data": {
      "text/html": [
       "<pre style=\"white-space:pre;overflow-x:auto;line-height:normal;font-family:Menlo,'DejaVu Sans Mono',consolas,'Courier New',monospace\">Best mean reward: 123690.00 - Last mean reward per episode: 122040.00\n",
       "</pre>\n"
      ],
      "text/plain": [
       "Best mean reward: 123690.00 - Last mean reward per episode: 122040.00\n"
      ]
     },
     "metadata": {},
     "output_type": "display_data"
    },
    {
     "data": {
      "text/html": [
       "<pre style=\"white-space:pre;overflow-x:auto;line-height:normal;font-family:Menlo,'DejaVu Sans Mono',consolas,'Courier New',monospace\">Num timesteps: 170000\n",
       "</pre>\n"
      ],
      "text/plain": [
       "Num timesteps: 170000\n"
      ]
     },
     "metadata": {},
     "output_type": "display_data"
    },
    {
     "data": {
      "text/html": [
       "<pre style=\"white-space:pre;overflow-x:auto;line-height:normal;font-family:Menlo,'DejaVu Sans Mono',consolas,'Courier New',monospace\">Best mean reward: 123690.00 - Last mean reward per episode: 116830.00\n",
       "</pre>\n"
      ],
      "text/plain": [
       "Best mean reward: 123690.00 - Last mean reward per episode: 116830.00\n"
      ]
     },
     "metadata": {},
     "output_type": "display_data"
    },
    {
     "data": {
      "text/html": [
       "<pre style=\"white-space:pre;overflow-x:auto;line-height:normal;font-family:Menlo,'DejaVu Sans Mono',consolas,'Courier New',monospace\">Num timesteps: 180000\n",
       "</pre>\n"
      ],
      "text/plain": [
       "Num timesteps: 180000\n"
      ]
     },
     "metadata": {},
     "output_type": "display_data"
    },
    {
     "data": {
      "text/html": [
       "<pre style=\"white-space:pre;overflow-x:auto;line-height:normal;font-family:Menlo,'DejaVu Sans Mono',consolas,'Courier New',monospace\">Best mean reward: 123690.00 - Last mean reward per episode: 126660.00\n",
       "</pre>\n"
      ],
      "text/plain": [
       "Best mean reward: 123690.00 - Last mean reward per episode: 126660.00\n"
      ]
     },
     "metadata": {},
     "output_type": "display_data"
    },
    {
     "data": {
      "text/html": [
       "<pre style=\"white-space:pre;overflow-x:auto;line-height:normal;font-family:Menlo,'DejaVu Sans Mono',consolas,'Courier New',monospace\">Saving new best model to /tmp/gym/best_model.zip\n",
       "</pre>\n"
      ],
      "text/plain": [
       "Saving new best model to /tmp/gym/best_model.zip\n"
      ]
     },
     "metadata": {},
     "output_type": "display_data"
    },
    {
     "data": {
      "text/html": [
       "<pre style=\"white-space:pre;overflow-x:auto;line-height:normal;font-family:Menlo,'DejaVu Sans Mono',consolas,'Courier New',monospace\">Num timesteps: 190000\n",
       "</pre>\n"
      ],
      "text/plain": [
       "Num timesteps: 190000\n"
      ]
     },
     "metadata": {},
     "output_type": "display_data"
    },
    {
     "data": {
      "text/html": [
       "<pre style=\"white-space:pre;overflow-x:auto;line-height:normal;font-family:Menlo,'DejaVu Sans Mono',consolas,'Courier New',monospace\">Best mean reward: 126660.00 - Last mean reward per episode: 132560.00\n",
       "</pre>\n"
      ],
      "text/plain": [
       "Best mean reward: 126660.00 - Last mean reward per episode: 132560.00\n"
      ]
     },
     "metadata": {},
     "output_type": "display_data"
    },
    {
     "data": {
      "text/html": [
       "<pre style=\"white-space:pre;overflow-x:auto;line-height:normal;font-family:Menlo,'DejaVu Sans Mono',consolas,'Courier New',monospace\">Saving new best model to /tmp/gym/best_model.zip\n",
       "</pre>\n"
      ],
      "text/plain": [
       "Saving new best model to /tmp/gym/best_model.zip\n"
      ]
     },
     "metadata": {},
     "output_type": "display_data"
    },
    {
     "data": {
      "text/html": [
       "<pre style=\"white-space:pre;overflow-x:auto;line-height:normal;font-family:Menlo,'DejaVu Sans Mono',consolas,'Courier New',monospace\">Num timesteps: 200000\n",
       "</pre>\n"
      ],
      "text/plain": [
       "Num timesteps: 200000\n"
      ]
     },
     "metadata": {},
     "output_type": "display_data"
    },
    {
     "data": {
      "text/html": [
       "<pre style=\"white-space:pre;overflow-x:auto;line-height:normal;font-family:Menlo,'DejaVu Sans Mono',consolas,'Courier New',monospace\">Best mean reward: 132560.00 - Last mean reward per episode: 110950.00\n",
       "</pre>\n"
      ],
      "text/plain": [
       "Best mean reward: 132560.00 - Last mean reward per episode: 110950.00\n"
      ]
     },
     "metadata": {},
     "output_type": "display_data"
    },
    {
     "data": {
      "text/html": [
       "<pre style=\"white-space:pre;overflow-x:auto;line-height:normal;font-family:Menlo,'DejaVu Sans Mono',consolas,'Courier New',monospace\">Num timesteps: 210000\n",
       "</pre>\n"
      ],
      "text/plain": [
       "Num timesteps: 210000\n"
      ]
     },
     "metadata": {},
     "output_type": "display_data"
    },
    {
     "data": {
      "text/html": [
       "<pre style=\"white-space:pre;overflow-x:auto;line-height:normal;font-family:Menlo,'DejaVu Sans Mono',consolas,'Courier New',monospace\">Best mean reward: 132560.00 - Last mean reward per episode: 117880.00\n",
       "</pre>\n"
      ],
      "text/plain": [
       "Best mean reward: 132560.00 - Last mean reward per episode: 117880.00\n"
      ]
     },
     "metadata": {},
     "output_type": "display_data"
    },
    {
     "data": {
      "text/html": [
       "<pre style=\"white-space:pre;overflow-x:auto;line-height:normal;font-family:Menlo,'DejaVu Sans Mono',consolas,'Courier New',monospace\">Num timesteps: 220000\n",
       "</pre>\n"
      ],
      "text/plain": [
       "Num timesteps: 220000\n"
      ]
     },
     "metadata": {},
     "output_type": "display_data"
    },
    {
     "data": {
      "text/html": [
       "<pre style=\"white-space:pre;overflow-x:auto;line-height:normal;font-family:Menlo,'DejaVu Sans Mono',consolas,'Courier New',monospace\">Best mean reward: 132560.00 - Last mean reward per episode: 133340.00\n",
       "</pre>\n"
      ],
      "text/plain": [
       "Best mean reward: 132560.00 - Last mean reward per episode: 133340.00\n"
      ]
     },
     "metadata": {},
     "output_type": "display_data"
    },
    {
     "data": {
      "text/html": [
       "<pre style=\"white-space:pre;overflow-x:auto;line-height:normal;font-family:Menlo,'DejaVu Sans Mono',consolas,'Courier New',monospace\">Saving new best model to /tmp/gym/best_model.zip\n",
       "</pre>\n"
      ],
      "text/plain": [
       "Saving new best model to /tmp/gym/best_model.zip\n"
      ]
     },
     "metadata": {},
     "output_type": "display_data"
    },
    {
     "data": {
      "text/html": [
       "<pre style=\"white-space:pre;overflow-x:auto;line-height:normal;font-family:Menlo,'DejaVu Sans Mono',consolas,'Courier New',monospace\">Num timesteps: 230000\n",
       "</pre>\n"
      ],
      "text/plain": [
       "Num timesteps: 230000\n"
      ]
     },
     "metadata": {},
     "output_type": "display_data"
    },
    {
     "data": {
      "text/html": [
       "<pre style=\"white-space:pre;overflow-x:auto;line-height:normal;font-family:Menlo,'DejaVu Sans Mono',consolas,'Courier New',monospace\">Best mean reward: 133340.00 - Last mean reward per episode: 120010.00\n",
       "</pre>\n"
      ],
      "text/plain": [
       "Best mean reward: 133340.00 - Last mean reward per episode: 120010.00\n"
      ]
     },
     "metadata": {},
     "output_type": "display_data"
    },
    {
     "data": {
      "text/html": [
       "<pre style=\"white-space:pre;overflow-x:auto;line-height:normal;font-family:Menlo,'DejaVu Sans Mono',consolas,'Courier New',monospace\">Num timesteps: 240000\n",
       "</pre>\n"
      ],
      "text/plain": [
       "Num timesteps: 240000\n"
      ]
     },
     "metadata": {},
     "output_type": "display_data"
    },
    {
     "data": {
      "text/html": [
       "<pre style=\"white-space:pre;overflow-x:auto;line-height:normal;font-family:Menlo,'DejaVu Sans Mono',consolas,'Courier New',monospace\">Best mean reward: 133340.00 - Last mean reward per episode: 131420.00\n",
       "</pre>\n"
      ],
      "text/plain": [
       "Best mean reward: 133340.00 - Last mean reward per episode: 131420.00\n"
      ]
     },
     "metadata": {},
     "output_type": "display_data"
    },
    {
     "data": {
      "text/html": [
       "<pre style=\"white-space:pre;overflow-x:auto;line-height:normal;font-family:Menlo,'DejaVu Sans Mono',consolas,'Courier New',monospace\">Num timesteps: 250000\n",
       "</pre>\n"
      ],
      "text/plain": [
       "Num timesteps: 250000\n"
      ]
     },
     "metadata": {},
     "output_type": "display_data"
    },
    {
     "data": {
      "text/html": [
       "<pre style=\"white-space:pre;overflow-x:auto;line-height:normal;font-family:Menlo,'DejaVu Sans Mono',consolas,'Courier New',monospace\">Best mean reward: 133340.00 - Last mean reward per episode: 132590.00\n",
       "</pre>\n"
      ],
      "text/plain": [
       "Best mean reward: 133340.00 - Last mean reward per episode: 132590.00\n"
      ]
     },
     "metadata": {},
     "output_type": "display_data"
    },
    {
     "data": {
      "text/html": [
       "<pre style=\"white-space:pre;overflow-x:auto;line-height:normal;font-family:Menlo,'DejaVu Sans Mono',consolas,'Courier New',monospace\">Num timesteps: 260000\n",
       "</pre>\n"
      ],
      "text/plain": [
       "Num timesteps: 260000\n"
      ]
     },
     "metadata": {},
     "output_type": "display_data"
    },
    {
     "data": {
      "text/html": [
       "<pre style=\"white-space:pre;overflow-x:auto;line-height:normal;font-family:Menlo,'DejaVu Sans Mono',consolas,'Courier New',monospace\">Best mean reward: 133340.00 - Last mean reward per episode: 119980.00\n",
       "</pre>\n"
      ],
      "text/plain": [
       "Best mean reward: 133340.00 - Last mean reward per episode: 119980.00\n"
      ]
     },
     "metadata": {},
     "output_type": "display_data"
    },
    {
     "data": {
      "text/html": [
       "<pre style=\"white-space:pre;overflow-x:auto;line-height:normal;font-family:Menlo,'DejaVu Sans Mono',consolas,'Courier New',monospace\">Num timesteps: 270000\n",
       "</pre>\n"
      ],
      "text/plain": [
       "Num timesteps: 270000\n"
      ]
     },
     "metadata": {},
     "output_type": "display_data"
    },
    {
     "data": {
      "text/html": [
       "<pre style=\"white-space:pre;overflow-x:auto;line-height:normal;font-family:Menlo,'DejaVu Sans Mono',consolas,'Courier New',monospace\">Best mean reward: 133340.00 - Last mean reward per episode: 130370.00\n",
       "</pre>\n"
      ],
      "text/plain": [
       "Best mean reward: 133340.00 - Last mean reward per episode: 130370.00\n"
      ]
     },
     "metadata": {},
     "output_type": "display_data"
    },
    {
     "data": {
      "text/html": [
       "<pre style=\"white-space:pre;overflow-x:auto;line-height:normal;font-family:Menlo,'DejaVu Sans Mono',consolas,'Courier New',monospace\">Num timesteps: 280000\n",
       "</pre>\n"
      ],
      "text/plain": [
       "Num timesteps: 280000\n"
      ]
     },
     "metadata": {},
     "output_type": "display_data"
    },
    {
     "data": {
      "text/html": [
       "<pre style=\"white-space:pre;overflow-x:auto;line-height:normal;font-family:Menlo,'DejaVu Sans Mono',consolas,'Courier New',monospace\">Best mean reward: 133340.00 - Last mean reward per episode: 130820.00\n",
       "</pre>\n"
      ],
      "text/plain": [
       "Best mean reward: 133340.00 - Last mean reward per episode: 130820.00\n"
      ]
     },
     "metadata": {},
     "output_type": "display_data"
    },
    {
     "data": {
      "text/html": [
       "<pre style=\"white-space:pre;overflow-x:auto;line-height:normal;font-family:Menlo,'DejaVu Sans Mono',consolas,'Courier New',monospace\">Num timesteps: 290000\n",
       "</pre>\n"
      ],
      "text/plain": [
       "Num timesteps: 290000\n"
      ]
     },
     "metadata": {},
     "output_type": "display_data"
    },
    {
     "data": {
      "text/html": [
       "<pre style=\"white-space:pre;overflow-x:auto;line-height:normal;font-family:Menlo,'DejaVu Sans Mono',consolas,'Courier New',monospace\">Best mean reward: 133340.00 - Last mean reward per episode: 122870.00\n",
       "</pre>\n"
      ],
      "text/plain": [
       "Best mean reward: 133340.00 - Last mean reward per episode: 122870.00\n"
      ]
     },
     "metadata": {},
     "output_type": "display_data"
    },
    {
     "data": {
      "text/html": [
       "<pre style=\"white-space:pre;overflow-x:auto;line-height:normal;font-family:Menlo,'DejaVu Sans Mono',consolas,'Courier New',monospace\">Num timesteps: 300000\n",
       "</pre>\n"
      ],
      "text/plain": [
       "Num timesteps: 300000\n"
      ]
     },
     "metadata": {},
     "output_type": "display_data"
    },
    {
     "data": {
      "text/html": [
       "<pre style=\"white-space:pre;overflow-x:auto;line-height:normal;font-family:Menlo,'DejaVu Sans Mono',consolas,'Courier New',monospace\">Best mean reward: 133340.00 - Last mean reward per episode: 128010.00\n",
       "</pre>\n"
      ],
      "text/plain": [
       "Best mean reward: 133340.00 - Last mean reward per episode: 128010.00\n"
      ]
     },
     "metadata": {},
     "output_type": "display_data"
    },
    {
     "data": {
      "text/html": [
       "<pre style=\"white-space:pre;overflow-x:auto;line-height:normal;font-family:Menlo,'DejaVu Sans Mono',consolas,'Courier New',monospace\">Num timesteps: 310000\n",
       "</pre>\n"
      ],
      "text/plain": [
       "Num timesteps: 310000\n"
      ]
     },
     "metadata": {},
     "output_type": "display_data"
    },
    {
     "data": {
      "text/html": [
       "<pre style=\"white-space:pre;overflow-x:auto;line-height:normal;font-family:Menlo,'DejaVu Sans Mono',consolas,'Courier New',monospace\">Best mean reward: 133340.00 - Last mean reward per episode: 130620.00\n",
       "</pre>\n"
      ],
      "text/plain": [
       "Best mean reward: 133340.00 - Last mean reward per episode: 130620.00\n"
      ]
     },
     "metadata": {},
     "output_type": "display_data"
    },
    {
     "data": {
      "text/html": [
       "<pre style=\"white-space:pre;overflow-x:auto;line-height:normal;font-family:Menlo,'DejaVu Sans Mono',consolas,'Courier New',monospace\">Num timesteps: 320000\n",
       "</pre>\n"
      ],
      "text/plain": [
       "Num timesteps: 320000\n"
      ]
     },
     "metadata": {},
     "output_type": "display_data"
    },
    {
     "data": {
      "text/html": [
       "<pre style=\"white-space:pre;overflow-x:auto;line-height:normal;font-family:Menlo,'DejaVu Sans Mono',consolas,'Courier New',monospace\">Best mean reward: 133340.00 - Last mean reward per episode: 129220.00\n",
       "</pre>\n"
      ],
      "text/plain": [
       "Best mean reward: 133340.00 - Last mean reward per episode: 129220.00\n"
      ]
     },
     "metadata": {},
     "output_type": "display_data"
    },
    {
     "data": {
      "text/html": [
       "<pre style=\"white-space:pre;overflow-x:auto;line-height:normal;font-family:Menlo,'DejaVu Sans Mono',consolas,'Courier New',monospace\">Num timesteps: 330000\n",
       "</pre>\n"
      ],
      "text/plain": [
       "Num timesteps: 330000\n"
      ]
     },
     "metadata": {},
     "output_type": "display_data"
    },
    {
     "data": {
      "text/html": [
       "<pre style=\"white-space:pre;overflow-x:auto;line-height:normal;font-family:Menlo,'DejaVu Sans Mono',consolas,'Courier New',monospace\">Best mean reward: 133340.00 - Last mean reward per episode: 128520.00\n",
       "</pre>\n"
      ],
      "text/plain": [
       "Best mean reward: 133340.00 - Last mean reward per episode: 128520.00\n"
      ]
     },
     "metadata": {},
     "output_type": "display_data"
    },
    {
     "data": {
      "text/html": [
       "<pre style=\"white-space:pre;overflow-x:auto;line-height:normal;font-family:Menlo,'DejaVu Sans Mono',consolas,'Courier New',monospace\">Num timesteps: 340000\n",
       "</pre>\n"
      ],
      "text/plain": [
       "Num timesteps: 340000\n"
      ]
     },
     "metadata": {},
     "output_type": "display_data"
    },
    {
     "data": {
      "text/html": [
       "<pre style=\"white-space:pre;overflow-x:auto;line-height:normal;font-family:Menlo,'DejaVu Sans Mono',consolas,'Courier New',monospace\">Best mean reward: 133340.00 - Last mean reward per episode: 120810.00\n",
       "</pre>\n"
      ],
      "text/plain": [
       "Best mean reward: 133340.00 - Last mean reward per episode: 120810.00\n"
      ]
     },
     "metadata": {},
     "output_type": "display_data"
    },
    {
     "data": {
      "text/html": [
       "<pre style=\"white-space:pre;overflow-x:auto;line-height:normal;font-family:Menlo,'DejaVu Sans Mono',consolas,'Courier New',monospace\">Num timesteps: 350000\n",
       "</pre>\n"
      ],
      "text/plain": [
       "Num timesteps: 350000\n"
      ]
     },
     "metadata": {},
     "output_type": "display_data"
    },
    {
     "data": {
      "text/html": [
       "<pre style=\"white-space:pre;overflow-x:auto;line-height:normal;font-family:Menlo,'DejaVu Sans Mono',consolas,'Courier New',monospace\">Best mean reward: 133340.00 - Last mean reward per episode: 131160.00\n",
       "</pre>\n"
      ],
      "text/plain": [
       "Best mean reward: 133340.00 - Last mean reward per episode: 131160.00\n"
      ]
     },
     "metadata": {},
     "output_type": "display_data"
    },
    {
     "data": {
      "text/html": [
       "<pre style=\"white-space:pre;overflow-x:auto;line-height:normal;font-family:Menlo,'DejaVu Sans Mono',consolas,'Courier New',monospace\">Num timesteps: 360000\n",
       "</pre>\n"
      ],
      "text/plain": [
       "Num timesteps: 360000\n"
      ]
     },
     "metadata": {},
     "output_type": "display_data"
    },
    {
     "data": {
      "text/html": [
       "<pre style=\"white-space:pre;overflow-x:auto;line-height:normal;font-family:Menlo,'DejaVu Sans Mono',consolas,'Courier New',monospace\">Best mean reward: 133340.00 - Last mean reward per episode: 116610.00\n",
       "</pre>\n"
      ],
      "text/plain": [
       "Best mean reward: 133340.00 - Last mean reward per episode: 116610.00\n"
      ]
     },
     "metadata": {},
     "output_type": "display_data"
    },
    {
     "data": {
      "text/html": [
       "<pre style=\"white-space:pre;overflow-x:auto;line-height:normal;font-family:Menlo,'DejaVu Sans Mono',consolas,'Courier New',monospace\">Num timesteps: 370000\n",
       "</pre>\n"
      ],
      "text/plain": [
       "Num timesteps: 370000\n"
      ]
     },
     "metadata": {},
     "output_type": "display_data"
    },
    {
     "data": {
      "text/html": [
       "<pre style=\"white-space:pre;overflow-x:auto;line-height:normal;font-family:Menlo,'DejaVu Sans Mono',consolas,'Courier New',monospace\">Best mean reward: 133340.00 - Last mean reward per episode: 132430.00\n",
       "</pre>\n"
      ],
      "text/plain": [
       "Best mean reward: 133340.00 - Last mean reward per episode: 132430.00\n"
      ]
     },
     "metadata": {},
     "output_type": "display_data"
    },
    {
     "data": {
      "text/html": [
       "<pre style=\"white-space:pre;overflow-x:auto;line-height:normal;font-family:Menlo,'DejaVu Sans Mono',consolas,'Courier New',monospace\">Num timesteps: 380000\n",
       "</pre>\n"
      ],
      "text/plain": [
       "Num timesteps: 380000\n"
      ]
     },
     "metadata": {},
     "output_type": "display_data"
    },
    {
     "data": {
      "text/html": [
       "<pre style=\"white-space:pre;overflow-x:auto;line-height:normal;font-family:Menlo,'DejaVu Sans Mono',consolas,'Courier New',monospace\">Best mean reward: 133340.00 - Last mean reward per episode: 137080.00\n",
       "</pre>\n"
      ],
      "text/plain": [
       "Best mean reward: 133340.00 - Last mean reward per episode: 137080.00\n"
      ]
     },
     "metadata": {},
     "output_type": "display_data"
    },
    {
     "data": {
      "text/html": [
       "<pre style=\"white-space:pre;overflow-x:auto;line-height:normal;font-family:Menlo,'DejaVu Sans Mono',consolas,'Courier New',monospace\">Saving new best model to /tmp/gym/best_model.zip\n",
       "</pre>\n"
      ],
      "text/plain": [
       "Saving new best model to /tmp/gym/best_model.zip\n"
      ]
     },
     "metadata": {},
     "output_type": "display_data"
    }
   ],
   "source": [
    "# Create log dir\n",
    "log_dir = \"/tmp/gym/\"\n",
    "os.makedirs(log_dir, exist_ok=True)\n",
    "\n",
    "env = Monitor(env, log_dir)\n",
    "\n",
    "callback = OnStepCallback(check_freq=10000, log_dir=log_dir)\n",
    "\n",
    "# Instantiate agent\n",
    "model = PPO(\n",
    "    \"MultiInputPolicy\",\n",
    "    env = env,\n",
    "    verbose = 0,\n",
    "    n_steps=1024,\n",
    "    batch_size=64,\n",
    "    gae_lambda=0.99,\n",
    "    n_epochs=4,\n",
    "    ent_coef=0.01\n",
    ")\n",
    "try:\n",
    "  model.learn(total_timesteps=int(10e5), progress_bar=True, callback=callback)\n",
    "except KeyboardInterrupt:\n",
    "  pass\n",
    "\n",
    "model.save(\"ppo_unit-commitment_sb3\")"
   ]
  },
  {
   "cell_type": "code",
   "execution_count": 13,
   "metadata": {},
   "outputs": [
    {
     "data": {
      "image/png": "[encoded data removed]",
      "text/plain": [
       "<Figure size 800x200 with 1 Axes>"
      ]
     },
     "metadata": {},
     "output_type": "display_data"
    }
   ],
   "source": [
    "from stable_baselines3.common import results_plotter\n",
    "\n",
    "# Helper from the library\n",
    "results_plotter.plot_results(\n",
    "    [log_dir], 1e6, results_plotter.X_TIMESTEPS, \"PPO UnitCommitment\"\n",
    ")"
   ]
  },
  {
   "cell_type": "code",
   "execution_count": 14,
   "metadata": {},
   "outputs": [],
   "source": [
    "def moving_average(values, window):\n",
    "    \"\"\"\n",
    "    Smooth values by doing a moving average\n",
    "    :param values: (numpy array)\n",
    "    :param window: (int)\n",
    "    :return: (numpy array)\n",
    "    \"\"\"\n",
    "    weights = np.repeat(1.0, window) / window\n",
    "    return np.convolve(values, weights, \"valid\")\n",
    "\n",
    "\n",
    "def plot_results(log_folder, title=\"Learning Curve\"):\n",
    "    \"\"\"\n",
    "    plot the results\n",
    "\n",
    "    :param log_folder: (str) the save location of the results to plot\n",
    "    :param title: (str) the title of the task to plot\n",
    "    \"\"\"\n",
    "    x, y = ts2xy(load_results(log_folder), \"timesteps\")\n",
    "    y = moving_average(y, window=50)\n",
    "    # Truncate x\n",
    "    x = x[len(x) - len(y) :]\n",
    "\n",
    "    fig = plt.figure(title)\n",
    "    plt.plot(x, y)\n",
    "    plt.xlabel(\"Number of Timesteps\")\n",
    "    plt.ylabel(\"Rewards\")\n",
    "    plt.title(title + \" Smoothed\")\n",
    "    plt.show()"
   ]
  },
  {
   "cell_type": "code",
   "execution_count": 15,
   "metadata": {},
   "outputs": [
    {
     "data": {
      "image/png": "[encoded data removed]",
      "text/plain": [
       "<Figure size 640x480 with 1 Axes>"
      ]
     },
     "metadata": {},
     "output_type": "display_data"
    }
   ],
   "source": [
    "plot_results(log_dir)"
   ]
  },
  {
   "cell_type": "code",
   "execution_count": 16,
   "metadata": {},
   "outputs": [
    {
     "data": {
      "image/png": "[encoded data removed]",
      "text/plain": [
       "<Figure size 640x480 with 1 Axes>"
      ]
     },
     "metadata": {},
     "output_type": "display_data"
    },
    {
     "name": "stdout",
     "output_type": "stream",
     "text": [
      "Test reward 174000.0\n"
     ]
    }
   ],
   "source": [
    "env = UnitCommitmentEnv(3, unit_characteristics)\n",
    "observation, info = env.reset()\n",
    "score = 0\n",
    "\n",
    "statuses = [observation[\"unit_status\"]]\n",
    "Pgen = []\n",
    "done = False\n",
    "while not done:\n",
    "    action, state_ = model.predict(observation)\n",
    "    observation_, reward, done, truncated, info = env.step(action)\n",
    "\n",
    "    observation = observation_\n",
    "    statuses.append(observation[\"unit_status\"])\n",
    "    Pgen.append(env.P)\n",
    "    score += reward\n",
    "\n",
    "\n",
    "plt.figure()\n",
    "\n",
    "x_ = np.arange(1, len(env.load_forecast)+1)\n",
    "x = np.arange(len(env.load_forecast))\n",
    "plt.bar(x, env.load_forecast, label = 'Load pattern')\n",
    "\n",
    "# for i in range(len(x)-1):\n",
    "#     plt.plot([x[i], x[i]], [Pgen[i], Pgen[i+1]], color='red') # vertical line\n",
    "#     plt.plot([x[i+1], x[i+1]], [Pgen[i], Pgen[i+1]], color='red') # vertical line\n",
    "#     plt.plot([x[i], x[i+1]], [Pgen[i], Pgen[i]], color='red')\n",
    "\n",
    "plt.plot(x, Pgen, color='red', label = 'Generation')\n",
    "plt.xlabel('Time (hours)')\n",
    "plt.ylabel('Power (pu)')\n",
    "plt.show()\n",
    "print(\"Test reward\", score)\n",
    "\n"
   ]
  },
  {
   "cell_type": "code",
   "execution_count": null,
   "metadata": {},
   "outputs": [],
   "source": []
  }
 ],
 "metadata": {
  "kernelspec": {
   "display_name": "Python 3",
   "language": "python",
   "name": "python3"
  },
  "language_info": {
   "codemirror_mode": {
    "name": "ipython",
    "version": 3
   },
   "file_extension": ".py",
   "mimetype": "text/x-python",
   "name": "python",
   "nbconvert_exporter": "python",
   "pygments_lexer": "ipython3",
   "version": "3.11.0"
  }
 },
 "nbformat": 4,
 "nbformat_minor": 2
}
