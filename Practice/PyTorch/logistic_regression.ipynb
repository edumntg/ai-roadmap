{
 "cells": [
  {
   "cell_type": "code",
   "execution_count": 65,
   "metadata": {},
   "outputs": [],
   "source": [
    "from sklearn.datasets import load_breast_cancer\n",
    "import torch\n",
    "import torch.nn as nn\n",
    "import matplotlib.pyplot as plt\n",
    "from sklearn.model_selection import train_test_split"
   ]
  },
  {
   "cell_type": "markdown",
   "metadata": {},
   "source": [
    "## Fetch wine dataset"
   ]
  },
  {
   "cell_type": "code",
   "execution_count": 66,
   "metadata": {},
   "outputs": [],
   "source": [
    "breast_cancer = load_breast_cancer()\n",
    "X, y = breast_cancer.data, breast_cancer.target\n",
    "\n",
    "X = torch.as_tensor(X, dtype = torch.float)\n",
    "y = torch.as_tensor(y, dtype = torch.float)"
   ]
  },
  {
   "cell_type": "markdown",
   "metadata": {},
   "source": [
    "## Split"
   ]
  },
  {
   "cell_type": "code",
   "execution_count": 67,
   "metadata": {},
   "outputs": [],
   "source": [
    "X_train, X_test, y_train, y_test = train_test_split(X, y, test_size = 0.4)\n",
    "X_test, X_val, y_test, y_val = train_test_split(X_test, y_test, test_size= 0.5)\n"
   ]
  },
  {
   "cell_type": "markdown",
   "metadata": {},
   "source": [
    "## Create Model"
   ]
  },
  {
   "cell_type": "code",
   "execution_count": 71,
   "metadata": {},
   "outputs": [
    {
     "name": "stdout",
     "output_type": "stream",
     "text": [
      "MyModel(\n",
      "  (input): Linear(in_features=30, out_features=512, bias=True)\n",
      "  (dropout): Dropout(p=0.5, inplace=False)\n",
      "  (output): Linear(in_features=32, out_features=1, bias=True)\n",
      ") [Linear(in_features=512, out_features=256, bias=True), Linear(in_features=256, out_features=128, bias=True), Linear(in_features=128, out_features=64, bias=True), Linear(in_features=64, out_features=32, bias=True)]\n",
      "torch.Size([1]) torch.Size([])\n"
     ]
    }
   ],
   "source": [
    "class MyModel(nn.Module):\n",
    "    def __init__(self, hidden = [64, 32, 16]):\n",
    "        super().__init__()\n",
    "\n",
    "        self.input = nn.Linear(X.shape[1], hidden[0])\n",
    "        self.hiddens = []\n",
    "        for i in range(len(hidden)-1):\n",
    "            self.hiddens.append(nn.Linear(hidden[i], hidden[i+1]))\n",
    "        \n",
    "        self.dropout = nn.Dropout(0.5)\n",
    "        self.output = nn.Linear(hidden[-1], 1)\n",
    "    \n",
    "    def forward(self, x):\n",
    "        out = nn.ReLU()(self.input(x))\n",
    "        for layer in self.hiddens:\n",
    "            out = nn.ReLU()(layer(out))\n",
    "\n",
    "        out = self.dropout(out)\n",
    "\n",
    "        return nn.Sigmoid()(self.output(out))\n",
    "    \n",
    "\n",
    "model = MyModel([512, 256, 128, 64, 32])\n",
    "print(model, model.hiddens)\n",
    "\n",
    "# Test architecture\n",
    "model(X_train[0])\n",
    "\n",
    "# Test shapes\n",
    "print(model(X_train[0]).shape, y_train[0].shape)"
   ]
  },
  {
   "cell_type": "markdown",
   "metadata": {},
   "source": [
    "## Criterion and Optimizer"
   ]
  },
  {
   "cell_type": "code",
   "execution_count": 72,
   "metadata": {},
   "outputs": [],
   "source": [
    "criterion = torch.nn.BCELoss()\n",
    "optimizer = torch.optim.SGD(model.parameters(), lr = 1e-2, momentum = 0.9)"
   ]
  },
  {
   "cell_type": "markdown",
   "metadata": {},
   "source": [
    "## Train"
   ]
  },
  {
   "cell_type": "code",
   "execution_count": 73,
   "metadata": {},
   "outputs": [
    {
     "name": "stdout",
     "output_type": "stream",
     "text": [
      "Epoch 1, loss: 0.0031, accuracy = 0.5455, val_acc = 0.5175\n",
      "Epoch 2, loss: 0.0024, accuracy = 0.5513, val_acc = 0.5000\n",
      "Epoch 3, loss: 0.0023, accuracy = 0.4839, val_acc = 0.4298\n",
      "Epoch 4, loss: 0.0025, accuracy = 0.4076, val_acc = 0.4561\n",
      "Epoch 5, loss: 0.0023, accuracy = 0.4194, val_acc = 0.5088\n",
      "Epoch 6, loss: 0.0022, accuracy = 0.4018, val_acc = 0.5263\n",
      "Epoch 7, loss: 0.0021, accuracy = 0.4311, val_acc = 0.6228\n",
      "Epoch 8, loss: 0.0020, accuracy = 0.6070, val_acc = 0.6053\n",
      "Epoch 9, loss: 0.0021, accuracy = 0.6100, val_acc = 0.4825\n",
      "Epoch 10, loss: 0.0020, accuracy = 0.6540, val_acc = 0.5965\n",
      "Epoch 11, loss: 0.0019, accuracy = 0.6481, val_acc = 0.6579\n",
      "Epoch 12, loss: 0.0018, accuracy = 0.6452, val_acc = 0.5877\n",
      "Epoch 13, loss: 0.0019, accuracy = 0.5513, val_acc = 0.6579\n",
      "Epoch 14, loss: 0.0019, accuracy = 0.5484, val_acc = 0.6930\n",
      "Epoch 15, loss: 0.0018, accuracy = 0.6158, val_acc = 0.6316\n",
      "Epoch 16, loss: 0.0017, accuracy = 0.7097, val_acc = 0.7719\n",
      "Epoch 17, loss: 0.0017, accuracy = 0.7449, val_acc = 0.7544\n",
      "Epoch 18, loss: 0.0017, accuracy = 0.7801, val_acc = 0.7632\n",
      "Epoch 19, loss: 0.0018, accuracy = 0.7507, val_acc = 0.7193\n",
      "Epoch 20, loss: 0.0017, accuracy = 0.7595, val_acc = 0.8684\n",
      "Epoch 21, loss: 0.0017, accuracy = 0.8006, val_acc = 0.8596\n",
      "Epoch 22, loss: 0.0016, accuracy = 0.8152, val_acc = 0.8158\n",
      "Epoch 23, loss: 0.0017, accuracy = 0.8094, val_acc = 0.8421\n",
      "Epoch 24, loss: 0.0016, accuracy = 0.8358, val_acc = 0.9123\n",
      "Epoch 25, loss: 0.0016, accuracy = 0.8299, val_acc = 0.7895\n",
      "Epoch 26, loss: 0.0015, accuracy = 0.8446, val_acc = 0.8070\n",
      "Epoch 27, loss: 0.0015, accuracy = 0.8358, val_acc = 0.8246\n",
      "Epoch 28, loss: 0.0015, accuracy = 0.8152, val_acc = 0.8596\n",
      "Epoch 29, loss: 0.0015, accuracy = 0.8006, val_acc = 0.8947\n",
      "Epoch 30, loss: 0.0015, accuracy = 0.8152, val_acc = 0.8333\n",
      "Epoch 31, loss: 0.0015, accuracy = 0.8065, val_acc = 0.8684\n",
      "Epoch 32, loss: 0.0014, accuracy = 0.8651, val_acc = 0.8772\n",
      "Epoch 33, loss: 0.0014, accuracy = 0.8592, val_acc = 0.8333\n",
      "Epoch 34, loss: 0.0014, accuracy = 0.8240, val_acc = 0.8684\n",
      "Epoch 35, loss: 0.0013, accuracy = 0.8680, val_acc = 0.8509\n",
      "Epoch 36, loss: 0.0013, accuracy = 0.8739, val_acc = 0.8246\n",
      "Epoch 37, loss: 0.0012, accuracy = 0.8739, val_acc = 0.8860\n",
      "Epoch 38, loss: 0.0013, accuracy = 0.8739, val_acc = 0.8596\n",
      "Epoch 39, loss: 0.0012, accuracy = 0.8768, val_acc = 0.8947\n",
      "Epoch 40, loss: 0.0012, accuracy = 0.8680, val_acc = 0.8860\n",
      "Epoch 41, loss: 0.0013, accuracy = 0.8387, val_acc = 0.8947\n",
      "Epoch 42, loss: 0.0012, accuracy = 0.8651, val_acc = 0.8947\n",
      "Epoch 43, loss: 0.0011, accuracy = 0.8798, val_acc = 0.8860\n",
      "Epoch 44, loss: 0.0011, accuracy = 0.8710, val_acc = 0.8772\n",
      "Epoch 45, loss: 0.0011, accuracy = 0.8622, val_acc = 0.8772\n",
      "Epoch 46, loss: 0.0011, accuracy = 0.8768, val_acc = 0.9035\n",
      "Epoch 47, loss: 0.0011, accuracy = 0.8768, val_acc = 0.8596\n",
      "Epoch 48, loss: 0.0011, accuracy = 0.8739, val_acc = 0.8684\n",
      "Epoch 49, loss: 0.0011, accuracy = 0.8739, val_acc = 0.8860\n",
      "Epoch 50, loss: 0.0011, accuracy = 0.8739, val_acc = 0.8684\n",
      "Epoch 51, loss: 0.0011, accuracy = 0.8710, val_acc = 0.9035\n",
      "Epoch 52, loss: 0.0011, accuracy = 0.8856, val_acc = 0.9035\n",
      "Epoch 53, loss: 0.0010, accuracy = 0.8974, val_acc = 0.8860\n",
      "Epoch 54, loss: 0.0010, accuracy = 0.8856, val_acc = 0.9035\n",
      "Epoch 55, loss: 0.0010, accuracy = 0.9091, val_acc = 0.9035\n",
      "Epoch 56, loss: 0.0010, accuracy = 0.9150, val_acc = 0.9035\n",
      "Epoch 57, loss: 0.0010, accuracy = 0.8827, val_acc = 0.9123\n",
      "Epoch 58, loss: 0.0010, accuracy = 0.8856, val_acc = 0.8772\n",
      "Epoch 59, loss: 0.0010, accuracy = 0.8974, val_acc = 0.8772\n",
      "Epoch 60, loss: 0.0009, accuracy = 0.9179, val_acc = 0.8860\n",
      "Epoch 61, loss: 0.0010, accuracy = 0.8680, val_acc = 0.8860\n",
      "Epoch 62, loss: 0.0009, accuracy = 0.9062, val_acc = 0.9123\n",
      "Epoch 63, loss: 0.0009, accuracy = 0.9003, val_acc = 0.8860\n",
      "Epoch 64, loss: 0.0010, accuracy = 0.8886, val_acc = 0.9035\n",
      "Epoch 65, loss: 0.0008, accuracy = 0.9091, val_acc = 0.9035\n",
      "Epoch 66, loss: 0.0009, accuracy = 0.8915, val_acc = 0.9035\n",
      "Epoch 67, loss: 0.0009, accuracy = 0.9091, val_acc = 0.9035\n",
      "Epoch 68, loss: 0.0009, accuracy = 0.8974, val_acc = 0.8860\n",
      "Epoch 69, loss: 0.0009, accuracy = 0.8974, val_acc = 0.9035\n",
      "Epoch 70, loss: 0.0009, accuracy = 0.8827, val_acc = 0.8860\n",
      "Epoch 71, loss: 0.0009, accuracy = 0.9120, val_acc = 0.8947\n",
      "Epoch 72, loss: 0.0009, accuracy = 0.8915, val_acc = 0.8772\n",
      "Epoch 73, loss: 0.0009, accuracy = 0.8739, val_acc = 0.9123\n",
      "Epoch 74, loss: 0.0009, accuracy = 0.8974, val_acc = 0.9035\n",
      "Epoch 75, loss: 0.0008, accuracy = 0.9032, val_acc = 0.8684\n",
      "Epoch 76, loss: 0.0009, accuracy = 0.8827, val_acc = 0.8947\n",
      "Epoch 77, loss: 0.0009, accuracy = 0.8915, val_acc = 0.8947\n",
      "Epoch 78, loss: 0.0008, accuracy = 0.9003, val_acc = 0.9035\n",
      "Epoch 79, loss: 0.0009, accuracy = 0.8974, val_acc = 0.9211\n",
      "Epoch 80, loss: 0.0008, accuracy = 0.8886, val_acc = 0.8947\n",
      "Epoch 81, loss: 0.0009, accuracy = 0.9091, val_acc = 0.9211\n",
      "Epoch 82, loss: 0.0008, accuracy = 0.9120, val_acc = 0.9035\n",
      "Epoch 83, loss: 0.0009, accuracy = 0.8886, val_acc = 0.8860\n",
      "Epoch 84, loss: 0.0009, accuracy = 0.8886, val_acc = 0.8947\n",
      "Epoch 85, loss: 0.0009, accuracy = 0.8944, val_acc = 0.9211\n",
      "Epoch 86, loss: 0.0008, accuracy = 0.9003, val_acc = 0.9123\n",
      "Epoch 87, loss: 0.0009, accuracy = 0.8974, val_acc = 0.9298\n",
      "Epoch 88, loss: 0.0008, accuracy = 0.9003, val_acc = 0.9035\n",
      "Epoch 89, loss: 0.0008, accuracy = 0.9179, val_acc = 0.8772\n",
      "Epoch 90, loss: 0.0009, accuracy = 0.8915, val_acc = 0.8947\n",
      "Epoch 91, loss: 0.0008, accuracy = 0.9091, val_acc = 0.8947\n",
      "Epoch 92, loss: 0.0008, accuracy = 0.9091, val_acc = 0.9211\n",
      "Epoch 93, loss: 0.0008, accuracy = 0.8886, val_acc = 0.8860\n",
      "Epoch 94, loss: 0.0009, accuracy = 0.8944, val_acc = 0.9123\n",
      "Epoch 95, loss: 0.0008, accuracy = 0.8915, val_acc = 0.8947\n",
      "Epoch 96, loss: 0.0008, accuracy = 0.8944, val_acc = 0.9123\n",
      "Epoch 97, loss: 0.0008, accuracy = 0.8886, val_acc = 0.9035\n",
      "Epoch 98, loss: 0.0008, accuracy = 0.9032, val_acc = 0.8947\n",
      "Epoch 99, loss: 0.0008, accuracy = 0.8944, val_acc = 0.9298\n",
      "Epoch 100, loss: 0.0008, accuracy = 0.9032, val_acc = 0.8947\n"
     ]
    }
   ],
   "source": [
    "EPOCHS = 100\n",
    "\n",
    "for epoch in range(1, EPOCHS + 1):\n",
    "    # Set model to train state\n",
    "    model.train()\n",
    "\n",
    "    # Predict\n",
    "    y_pred = model(X_train).squeeze()\n",
    "\n",
    "    # Compute loss\n",
    "    loss = criterion(y_pred, y_train)\n",
    "\n",
    "    # Reset gradients\n",
    "    model.zero_grad()\n",
    "\n",
    "    # Backward pass\n",
    "    loss.backward()\n",
    "\n",
    "    # Update parameters\n",
    "    optimizer.step()\n",
    "\n",
    "    # Compute accuracy\n",
    "    train_acc = (y_pred.round() == y_train).sum() / len(X_train)\n",
    "\n",
    "    # Validation accuracy\n",
    "    y_val_pred = model(X_val).squeeze()\n",
    "    val_acc = (y_val_pred.round() == y_val).sum() / len(X_val)\n",
    "\n",
    "    print(f\"Epoch {epoch}, loss: {(loss.item() / len(X_train)):.4f}, accuracy = {train_acc:.4f}, val_acc = {val_acc:.4f}\")\n"
   ]
  },
  {
   "cell_type": "code",
   "execution_count": null,
   "metadata": {},
   "outputs": [],
   "source": []
  },
  {
   "cell_type": "code",
   "execution_count": null,
   "metadata": {},
   "outputs": [],
   "source": []
  },
  {
   "cell_type": "code",
   "execution_count": null,
   "metadata": {},
   "outputs": [],
   "source": []
  }
 ],
 "metadata": {
  "kernelspec": {
   "display_name": "Python 3",
   "language": "python",
   "name": "python3"
  },
  "language_info": {
   "codemirror_mode": {
    "name": "ipython",
    "version": 3
   },
   "file_extension": ".py",
   "mimetype": "text/x-python",
   "name": "python",
   "nbconvert_exporter": "python",
   "pygments_lexer": "ipython3",
   "version": "3.11.0"
  }
 },
 "nbformat": 4,
 "nbformat_minor": 2
}
